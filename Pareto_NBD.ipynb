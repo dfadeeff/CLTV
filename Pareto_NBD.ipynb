{
 "cells": [
  {
   "cell_type": "code",
   "execution_count": 254,
   "metadata": {
    "collapsed": false
   },
   "outputs": [],
   "source": [
    "#Load libraries\n",
    "import pandas as pd\n",
    "import numpy as np\n",
    "import scipy as sp\n",
    "from datetime import datetime"
   ]
  },
  {
   "cell_type": "code",
   "execution_count": 255,
   "metadata": {
    "collapsed": false
   },
   "outputs": [],
   "source": [
    "import matplotlib.pyplot as plt"
   ]
  },
  {
   "cell_type": "code",
   "execution_count": 256,
   "metadata": {
    "collapsed": true
   },
   "outputs": [],
   "source": [
    "%matplotlib inline"
   ]
  },
  {
   "cell_type": "code",
   "execution_count": 258,
   "metadata": {
    "collapsed": false
   },
   "outputs": [
    {
     "name": "stdout",
     "output_type": "stream",
     "text": [
      "(146874, 16)\n"
     ]
    },
    {
     "data": {
      "text/html": [
       "<div>\n",
       "<table border=\"1\" class=\"dataframe\">\n",
       "  <thead>\n",
       "    <tr style=\"text-align: right;\">\n",
       "      <th></th>\n",
       "      <th>exchange_rate_date</th>\n",
       "      <th>invoice</th>\n",
       "      <th>customer</th>\n",
       "      <th>id</th>\n",
       "      <th>state</th>\n",
       "      <th>order</th>\n",
       "      <th>createdAt</th>\n",
       "      <th>location</th>\n",
       "      <th>segmentation</th>\n",
       "      <th>NetTotalAfterDiscount</th>\n",
       "      <th>NetTotalBeforeDiscount</th>\n",
       "      <th>GrossTotalAfterDiscount</th>\n",
       "      <th>GrossTotalBeforeDiscount</th>\n",
       "      <th>currency_code</th>\n",
       "      <th>exchange_rate_value</th>\n",
       "      <th>isvalid</th>\n",
       "    </tr>\n",
       "  </thead>\n",
       "  <tbody>\n",
       "    <tr>\n",
       "      <th>0</th>\n",
       "      <td>2014-10-22</td>\n",
       "      <td>NaN</td>\n",
       "      <td>GB-CUS-Y8922200</td>\n",
       "      <td>54478738d2cde8320d9b58d2</td>\n",
       "      <td>canceled</td>\n",
       "      <td>GB-A-69332</td>\n",
       "      <td>2014-10-22 12:30:16</td>\n",
       "      <td>gb_london</td>\n",
       "      <td>NaN</td>\n",
       "      <td>NaN</td>\n",
       "      <td>NaN</td>\n",
       "      <td>NaN</td>\n",
       "      <td>NaN</td>\n",
       "      <td>GBP</td>\n",
       "      <td>0.788134</td>\n",
       "      <td>0</td>\n",
       "    </tr>\n",
       "    <tr>\n",
       "      <th>1</th>\n",
       "      <td>2014-10-22</td>\n",
       "      <td>NaN</td>\n",
       "      <td>GB-CUS-K3854440</td>\n",
       "      <td>54478fa5d4cde82847f1345e</td>\n",
       "      <td>canceled</td>\n",
       "      <td>GB-A-74327</td>\n",
       "      <td>2014-10-22 13:06:13</td>\n",
       "      <td>gb_london</td>\n",
       "      <td>DCLA</td>\n",
       "      <td>NaN</td>\n",
       "      <td>NaN</td>\n",
       "      <td>NaN</td>\n",
       "      <td>NaN</td>\n",
       "      <td>GBP</td>\n",
       "      <td>0.788134</td>\n",
       "      <td>0</td>\n",
       "    </tr>\n",
       "  </tbody>\n",
       "</table>\n",
       "</div>"
      ],
      "text/plain": [
       "  exchange_rate_date invoice         customer                        id  \\\n",
       "0         2014-10-22     NaN  GB-CUS-Y8922200  54478738d2cde8320d9b58d2   \n",
       "1         2014-10-22     NaN  GB-CUS-K3854440  54478fa5d4cde82847f1345e   \n",
       "\n",
       "      state       order            createdAt   location segmentation  \\\n",
       "0  canceled  GB-A-69332  2014-10-22 12:30:16  gb_london          NaN   \n",
       "1  canceled  GB-A-74327  2014-10-22 13:06:13  gb_london         DCLA   \n",
       "\n",
       "   NetTotalAfterDiscount  NetTotalBeforeDiscount  GrossTotalAfterDiscount  \\\n",
       "0                    NaN                     NaN                      NaN   \n",
       "1                    NaN                     NaN                      NaN   \n",
       "\n",
       "   GrossTotalBeforeDiscount currency_code  exchange_rate_value  isvalid  \n",
       "0                       NaN           GBP             0.788134        0  \n",
       "1                       NaN           GBP             0.788134        0  "
      ]
     },
     "execution_count": 258,
     "metadata": {},
     "output_type": "execute_result"
    }
   ],
   "source": [
    "#Load data\n",
    "data = pd.read_csv(\"orders_data.csv\")\n",
    "print(data.shape)\n",
    "data.head(2)"
   ]
  },
  {
   "cell_type": "code",
   "execution_count": 259,
   "metadata": {
    "collapsed": false
   },
   "outputs": [],
   "source": [
    "#Make a subset\n",
    "data_s = data[[\"customer\",\"state\",\"order\",\"createdAt\",\"location\"]]"
   ]
  },
  {
   "cell_type": "code",
   "execution_count": 260,
   "metadata": {
    "collapsed": false
   },
   "outputs": [
    {
     "name": "stdout",
     "output_type": "stream",
     "text": [
      "customer             object\n",
      "state                object\n",
      "order                object\n",
      "createdAt            object\n",
      "location             object\n",
      "date         datetime64[ns]\n",
      "dtype: object\n"
     ]
    },
    {
     "data": {
      "text/html": [
       "<div>\n",
       "<table border=\"1\" class=\"dataframe\">\n",
       "  <thead>\n",
       "    <tr style=\"text-align: right;\">\n",
       "      <th></th>\n",
       "      <th>customer</th>\n",
       "      <th>state</th>\n",
       "      <th>order</th>\n",
       "      <th>createdAt</th>\n",
       "      <th>location</th>\n",
       "      <th>date</th>\n",
       "    </tr>\n",
       "  </thead>\n",
       "  <tbody>\n",
       "    <tr>\n",
       "      <th>0</th>\n",
       "      <td>GB-CUS-Y8922200</td>\n",
       "      <td>canceled</td>\n",
       "      <td>GB-A-69332</td>\n",
       "      <td>2014-10-22 12:30:16</td>\n",
       "      <td>gb_london</td>\n",
       "      <td>2014-10-22</td>\n",
       "    </tr>\n",
       "    <tr>\n",
       "      <th>1</th>\n",
       "      <td>GB-CUS-K3854440</td>\n",
       "      <td>canceled</td>\n",
       "      <td>GB-A-74327</td>\n",
       "      <td>2014-10-22 13:06:13</td>\n",
       "      <td>gb_london</td>\n",
       "      <td>2014-10-22</td>\n",
       "    </tr>\n",
       "    <tr>\n",
       "      <th>2</th>\n",
       "      <td>GB-CUS-Y8922200</td>\n",
       "      <td>canceled</td>\n",
       "      <td>GB-R-37069</td>\n",
       "      <td>2014-10-22 12:34:35</td>\n",
       "      <td>gb_london</td>\n",
       "      <td>2014-10-22</td>\n",
       "    </tr>\n",
       "    <tr>\n",
       "      <th>3</th>\n",
       "      <td>GB-CUS-C3589820</td>\n",
       "      <td>canceled</td>\n",
       "      <td>GB-G-10354</td>\n",
       "      <td>2014-10-22 20:04:20</td>\n",
       "      <td>gb_london</td>\n",
       "      <td>2014-10-22</td>\n",
       "    </tr>\n",
       "    <tr>\n",
       "      <th>4</th>\n",
       "      <td>GB-CUS-P6345195</td>\n",
       "      <td>completed</td>\n",
       "      <td>GB-X-54771</td>\n",
       "      <td>2014-10-22 12:24:29</td>\n",
       "      <td>gb_london</td>\n",
       "      <td>2014-10-22</td>\n",
       "    </tr>\n",
       "  </tbody>\n",
       "</table>\n",
       "</div>"
      ],
      "text/plain": [
       "          customer      state       order            createdAt   location  \\\n",
       "0  GB-CUS-Y8922200   canceled  GB-A-69332  2014-10-22 12:30:16  gb_london   \n",
       "1  GB-CUS-K3854440   canceled  GB-A-74327  2014-10-22 13:06:13  gb_london   \n",
       "2  GB-CUS-Y8922200   canceled  GB-R-37069  2014-10-22 12:34:35  gb_london   \n",
       "3  GB-CUS-C3589820   canceled  GB-G-10354  2014-10-22 20:04:20  gb_london   \n",
       "4  GB-CUS-P6345195  completed  GB-X-54771  2014-10-22 12:24:29  gb_london   \n",
       "\n",
       "        date  \n",
       "0 2014-10-22  \n",
       "1 2014-10-22  \n",
       "2 2014-10-22  \n",
       "3 2014-10-22  \n",
       "4 2014-10-22  "
      ]
     },
     "execution_count": 260,
     "metadata": {},
     "output_type": "execute_result"
    }
   ],
   "source": [
    "#Add the data, just in case\n",
    "data_s.is_copy = False #turn off the check for that object\n",
    "#data_s[\"date\"] = pd.to_datetime(data_s[\"createdAt\"]) #that form would keep the timestamp\n",
    "data_s[\"date\"] = pd.to_datetime(data_s[\"createdAt\"]).dt.date #that parses the date part \n",
    "data_s['date'] = pd.to_datetime(data_s['date'])\n",
    "print(data_s.dtypes)\n",
    "data_s.head()"
   ]
  },
  {
   "cell_type": "code",
   "execution_count": 261,
   "metadata": {
    "collapsed": false
   },
   "outputs": [
    {
     "name": "stdout",
     "output_type": "stream",
     "text": [
      "['canceled' 'completed' 'payment_error' 'processing'\n",
      " 'payment_settlement_cycle' 'reserved']\n",
      "Total number of valid orders:  123970\n",
      "Unique customers:  37310\n",
      "(146874, 7)\n"
     ]
    },
    {
     "data": {
      "text/html": [
       "<div>\n",
       "<table border=\"1\" class=\"dataframe\">\n",
       "  <thead>\n",
       "    <tr style=\"text-align: right;\">\n",
       "      <th></th>\n",
       "      <th>customer</th>\n",
       "      <th>state</th>\n",
       "      <th>order</th>\n",
       "      <th>createdAt</th>\n",
       "      <th>location</th>\n",
       "      <th>date</th>\n",
       "      <th>isvalid</th>\n",
       "    </tr>\n",
       "  </thead>\n",
       "  <tbody>\n",
       "    <tr>\n",
       "      <th>0</th>\n",
       "      <td>GB-CUS-Y8922200</td>\n",
       "      <td>canceled</td>\n",
       "      <td>GB-A-69332</td>\n",
       "      <td>2014-10-22 12:30:16</td>\n",
       "      <td>gb_london</td>\n",
       "      <td>2014-10-22</td>\n",
       "      <td>0</td>\n",
       "    </tr>\n",
       "    <tr>\n",
       "      <th>1</th>\n",
       "      <td>GB-CUS-K3854440</td>\n",
       "      <td>canceled</td>\n",
       "      <td>GB-A-74327</td>\n",
       "      <td>2014-10-22 13:06:13</td>\n",
       "      <td>gb_london</td>\n",
       "      <td>2014-10-22</td>\n",
       "      <td>0</td>\n",
       "    </tr>\n",
       "    <tr>\n",
       "      <th>2</th>\n",
       "      <td>GB-CUS-Y8922200</td>\n",
       "      <td>canceled</td>\n",
       "      <td>GB-R-37069</td>\n",
       "      <td>2014-10-22 12:34:35</td>\n",
       "      <td>gb_london</td>\n",
       "      <td>2014-10-22</td>\n",
       "      <td>0</td>\n",
       "    </tr>\n",
       "    <tr>\n",
       "      <th>3</th>\n",
       "      <td>GB-CUS-C3589820</td>\n",
       "      <td>canceled</td>\n",
       "      <td>GB-G-10354</td>\n",
       "      <td>2014-10-22 20:04:20</td>\n",
       "      <td>gb_london</td>\n",
       "      <td>2014-10-22</td>\n",
       "      <td>0</td>\n",
       "    </tr>\n",
       "    <tr>\n",
       "      <th>4</th>\n",
       "      <td>GB-CUS-P6345195</td>\n",
       "      <td>completed</td>\n",
       "      <td>GB-X-54771</td>\n",
       "      <td>2014-10-22 12:24:29</td>\n",
       "      <td>gb_london</td>\n",
       "      <td>2014-10-22</td>\n",
       "      <td>1</td>\n",
       "    </tr>\n",
       "  </tbody>\n",
       "</table>\n",
       "</div>"
      ],
      "text/plain": [
       "          customer      state       order            createdAt   location  \\\n",
       "0  GB-CUS-Y8922200   canceled  GB-A-69332  2014-10-22 12:30:16  gb_london   \n",
       "1  GB-CUS-K3854440   canceled  GB-A-74327  2014-10-22 13:06:13  gb_london   \n",
       "2  GB-CUS-Y8922200   canceled  GB-R-37069  2014-10-22 12:34:35  gb_london   \n",
       "3  GB-CUS-C3589820   canceled  GB-G-10354  2014-10-22 20:04:20  gb_london   \n",
       "4  GB-CUS-P6345195  completed  GB-X-54771  2014-10-22 12:24:29  gb_london   \n",
       "\n",
       "        date  isvalid  \n",
       "0 2014-10-22        0  \n",
       "1 2014-10-22        0  \n",
       "2 2014-10-22        0  \n",
       "3 2014-10-22        0  \n",
       "4 2014-10-22        1  "
      ]
     },
     "execution_count": 261,
     "metadata": {},
     "output_type": "execute_result"
    }
   ],
   "source": [
    "#Check the set of unique states\n",
    "print(data_s['state'].unique())\n",
    "\n",
    "#Add is_valid column\n",
    "data_s[\"isvalid\"] = 1\n",
    "data_s.ix[data_s['state'].isin(['new','canceled','reserved']),['isvalid']] = 0\n",
    "\n",
    "#Check total # of valid orders\n",
    "print(\"Total number of valid orders: \", sum(data_s[\"isvalid\"]))\n",
    "print(\"Unique customers: \", len(data_s['customer'].unique()))\n",
    "print(data_s.shape)\n",
    "data_s.head()"
   ]
  },
  {
   "cell_type": "markdown",
   "metadata": {},
   "source": [
    "# Preparation part"
   ]
  },
  {
   "cell_type": "code",
   "execution_count": 262,
   "metadata": {
    "collapsed": false
   },
   "outputs": [],
   "source": [
    "#Aggregate by customer\n",
    "g = data_s[data_s['isvalid']>0].groupby('customer').apply(lambda x: x['isvalid'].sum()).reset_index()"
   ]
  },
  {
   "cell_type": "code",
   "execution_count": 263,
   "metadata": {
    "collapsed": false
   },
   "outputs": [
    {
     "name": "stdout",
     "output_type": "stream",
     "text": [
      "123970\n",
      "(33722, 2)\n"
     ]
    },
    {
     "data": {
      "text/html": [
       "<div>\n",
       "<table border=\"1\" class=\"dataframe\">\n",
       "  <thead>\n",
       "    <tr style=\"text-align: right;\">\n",
       "      <th></th>\n",
       "      <th>customer</th>\n",
       "      <th>validOrders</th>\n",
       "    </tr>\n",
       "  </thead>\n",
       "  <tbody>\n",
       "    <tr>\n",
       "      <th>0</th>\n",
       "      <td>CUS-A0013083</td>\n",
       "      <td>3</td>\n",
       "    </tr>\n",
       "    <tr>\n",
       "      <th>1</th>\n",
       "      <td>CUS-A0016193</td>\n",
       "      <td>1</td>\n",
       "    </tr>\n",
       "    <tr>\n",
       "      <th>2</th>\n",
       "      <td>CUS-A0022539</td>\n",
       "      <td>1</td>\n",
       "    </tr>\n",
       "    <tr>\n",
       "      <th>3</th>\n",
       "      <td>CUS-A0028640</td>\n",
       "      <td>1</td>\n",
       "    </tr>\n",
       "    <tr>\n",
       "      <th>4</th>\n",
       "      <td>CUS-A0032874</td>\n",
       "      <td>8</td>\n",
       "    </tr>\n",
       "  </tbody>\n",
       "</table>\n",
       "</div>"
      ],
      "text/plain": [
       "       customer  validOrders\n",
       "0  CUS-A0013083            3\n",
       "1  CUS-A0016193            1\n",
       "2  CUS-A0022539            1\n",
       "3  CUS-A0028640            1\n",
       "4  CUS-A0032874            8"
      ]
     },
     "execution_count": 263,
     "metadata": {},
     "output_type": "execute_result"
    }
   ],
   "source": [
    "g.columns = ['customer','validOrders']\n",
    "print(g[\"validOrders\"].sum())\n",
    "print(g.shape)\n",
    "g.head()"
   ]
  },
  {
   "cell_type": "code",
   "execution_count": 264,
   "metadata": {
    "collapsed": false
   },
   "outputs": [],
   "source": [
    "# Make a transform with first and last date per customer\n",
    "#p = data_s[data_s['isvalid']>0].groupby('customer')['date'].agg({\"first\": lambda x: x.iloc[0],\"last\": lambda x: x.iloc[-1]}).reset_index()\n",
    "p = data_s[data_s['isvalid']>0].groupby('customer')['date'].agg({\"first\": lambda x: x.min(),\"last\": lambda x: x.max()}).reset_index()"
   ]
  },
  {
   "cell_type": "code",
   "execution_count": 266,
   "metadata": {
    "collapsed": false
   },
   "outputs": [
    {
     "name": "stdout",
     "output_type": "stream",
     "text": [
      "(33722, 3)\n"
     ]
    },
    {
     "data": {
      "text/html": [
       "<div>\n",
       "<table border=\"1\" class=\"dataframe\">\n",
       "  <thead>\n",
       "    <tr style=\"text-align: right;\">\n",
       "      <th></th>\n",
       "      <th>customer</th>\n",
       "      <th>first</th>\n",
       "      <th>last</th>\n",
       "    </tr>\n",
       "  </thead>\n",
       "  <tbody>\n",
       "    <tr>\n",
       "      <th>0</th>\n",
       "      <td>CUS-A0013083</td>\n",
       "      <td>2015-10-12</td>\n",
       "      <td>2016-09-27</td>\n",
       "    </tr>\n",
       "    <tr>\n",
       "      <th>1</th>\n",
       "      <td>CUS-A0016193</td>\n",
       "      <td>2016-12-12</td>\n",
       "      <td>2016-12-12</td>\n",
       "    </tr>\n",
       "    <tr>\n",
       "      <th>2</th>\n",
       "      <td>CUS-A0022539</td>\n",
       "      <td>2016-01-06</td>\n",
       "      <td>2016-01-06</td>\n",
       "    </tr>\n",
       "    <tr>\n",
       "      <th>3</th>\n",
       "      <td>CUS-A0028640</td>\n",
       "      <td>2016-09-09</td>\n",
       "      <td>2016-09-09</td>\n",
       "    </tr>\n",
       "    <tr>\n",
       "      <th>4</th>\n",
       "      <td>CUS-A0032874</td>\n",
       "      <td>2016-03-31</td>\n",
       "      <td>2016-05-14</td>\n",
       "    </tr>\n",
       "  </tbody>\n",
       "</table>\n",
       "</div>"
      ],
      "text/plain": [
       "       customer      first       last\n",
       "0  CUS-A0013083 2015-10-12 2016-09-27\n",
       "1  CUS-A0016193 2016-12-12 2016-12-12\n",
       "2  CUS-A0022539 2016-01-06 2016-01-06\n",
       "3  CUS-A0028640 2016-09-09 2016-09-09\n",
       "4  CUS-A0032874 2016-03-31 2016-05-14"
      ]
     },
     "execution_count": 266,
     "metadata": {},
     "output_type": "execute_result"
    }
   ],
   "source": [
    "# Check shape \n",
    "print(p.shape)\n",
    "p.head()"
   ]
  },
  {
   "cell_type": "code",
   "execution_count": 267,
   "metadata": {
    "collapsed": false
   },
   "outputs": [
    {
     "name": "stdout",
     "output_type": "stream",
     "text": [
      "(33722, 4)\n",
      "123970\n"
     ]
    },
    {
     "data": {
      "text/html": [
       "<div>\n",
       "<table border=\"1\" class=\"dataframe\">\n",
       "  <thead>\n",
       "    <tr style=\"text-align: right;\">\n",
       "      <th></th>\n",
       "      <th>customer</th>\n",
       "      <th>validOrders</th>\n",
       "      <th>first</th>\n",
       "      <th>last</th>\n",
       "    </tr>\n",
       "  </thead>\n",
       "  <tbody>\n",
       "    <tr>\n",
       "      <th>0</th>\n",
       "      <td>CUS-A0013083</td>\n",
       "      <td>3</td>\n",
       "      <td>2015-10-12</td>\n",
       "      <td>2016-09-27</td>\n",
       "    </tr>\n",
       "    <tr>\n",
       "      <th>1</th>\n",
       "      <td>CUS-A0016193</td>\n",
       "      <td>1</td>\n",
       "      <td>2016-12-12</td>\n",
       "      <td>2016-12-12</td>\n",
       "    </tr>\n",
       "    <tr>\n",
       "      <th>2</th>\n",
       "      <td>CUS-A0022539</td>\n",
       "      <td>1</td>\n",
       "      <td>2016-01-06</td>\n",
       "      <td>2016-01-06</td>\n",
       "    </tr>\n",
       "    <tr>\n",
       "      <th>3</th>\n",
       "      <td>CUS-A0028640</td>\n",
       "      <td>1</td>\n",
       "      <td>2016-09-09</td>\n",
       "      <td>2016-09-09</td>\n",
       "    </tr>\n",
       "    <tr>\n",
       "      <th>4</th>\n",
       "      <td>CUS-A0032874</td>\n",
       "      <td>8</td>\n",
       "      <td>2016-03-31</td>\n",
       "      <td>2016-05-14</td>\n",
       "    </tr>\n",
       "  </tbody>\n",
       "</table>\n",
       "</div>"
      ],
      "text/plain": [
       "       customer  validOrders      first       last\n",
       "0  CUS-A0013083            3 2015-10-12 2016-09-27\n",
       "1  CUS-A0016193            1 2016-12-12 2016-12-12\n",
       "2  CUS-A0022539            1 2016-01-06 2016-01-06\n",
       "3  CUS-A0028640            1 2016-09-09 2016-09-09\n",
       "4  CUS-A0032874            8 2016-03-31 2016-05-14"
      ]
     },
     "execution_count": 267,
     "metadata": {},
     "output_type": "execute_result"
    }
   ],
   "source": [
    "#Merge the datasets\n",
    "merged_df = pd.merge(left=g,right=p,how='inner',left_on='customer',right_on='customer',copy=True)\n",
    "print(merged_df.shape)\n",
    "print(merged_df['validOrders'].sum())\n",
    "merged_df.head()\n"
   ]
  },
  {
   "cell_type": "code",
   "execution_count": 268,
   "metadata": {
    "collapsed": false
   },
   "outputs": [
    {
     "data": {
      "text/html": [
       "<div>\n",
       "<table border=\"1\" class=\"dataframe\">\n",
       "  <thead>\n",
       "    <tr style=\"text-align: right;\">\n",
       "      <th></th>\n",
       "      <th>customer</th>\n",
       "      <th>validOrders</th>\n",
       "      <th>first</th>\n",
       "      <th>last</th>\n",
       "      <th>frequency</th>\n",
       "    </tr>\n",
       "  </thead>\n",
       "  <tbody>\n",
       "    <tr>\n",
       "      <th>0</th>\n",
       "      <td>CUS-A0013083</td>\n",
       "      <td>3</td>\n",
       "      <td>2015-10-12</td>\n",
       "      <td>2016-09-27</td>\n",
       "      <td>2</td>\n",
       "    </tr>\n",
       "    <tr>\n",
       "      <th>1</th>\n",
       "      <td>CUS-A0016193</td>\n",
       "      <td>1</td>\n",
       "      <td>2016-12-12</td>\n",
       "      <td>2016-12-12</td>\n",
       "      <td>0</td>\n",
       "    </tr>\n",
       "    <tr>\n",
       "      <th>2</th>\n",
       "      <td>CUS-A0022539</td>\n",
       "      <td>1</td>\n",
       "      <td>2016-01-06</td>\n",
       "      <td>2016-01-06</td>\n",
       "      <td>0</td>\n",
       "    </tr>\n",
       "    <tr>\n",
       "      <th>3</th>\n",
       "      <td>CUS-A0028640</td>\n",
       "      <td>1</td>\n",
       "      <td>2016-09-09</td>\n",
       "      <td>2016-09-09</td>\n",
       "      <td>0</td>\n",
       "    </tr>\n",
       "    <tr>\n",
       "      <th>4</th>\n",
       "      <td>CUS-A0032874</td>\n",
       "      <td>8</td>\n",
       "      <td>2016-03-31</td>\n",
       "      <td>2016-05-14</td>\n",
       "      <td>7</td>\n",
       "    </tr>\n",
       "  </tbody>\n",
       "</table>\n",
       "</div>"
      ],
      "text/plain": [
       "       customer  validOrders      first       last  frequency\n",
       "0  CUS-A0013083            3 2015-10-12 2016-09-27          2\n",
       "1  CUS-A0016193            1 2016-12-12 2016-12-12          0\n",
       "2  CUS-A0022539            1 2016-01-06 2016-01-06          0\n",
       "3  CUS-A0028640            1 2016-09-09 2016-09-09          0\n",
       "4  CUS-A0032874            8 2016-03-31 2016-05-14          7"
      ]
     },
     "execution_count": 268,
     "metadata": {},
     "output_type": "execute_result"
    }
   ],
   "source": [
    "#Get frequency\n",
    "merged_df['frequency'] = merged_df['validOrders'] - 1\n",
    "merged_df.head()"
   ]
  },
  {
   "cell_type": "code",
   "execution_count": 269,
   "metadata": {
    "collapsed": false
   },
   "outputs": [
    {
     "name": "stdout",
     "output_type": "stream",
     "text": [
      "customer               object\n",
      "validOrders             int64\n",
      "first          datetime64[ns]\n",
      "last           datetime64[ns]\n",
      "frequency               int64\n",
      "recency               float64\n",
      "dtype: object\n"
     ]
    },
    {
     "data": {
      "text/html": [
       "<div>\n",
       "<table border=\"1\" class=\"dataframe\">\n",
       "  <thead>\n",
       "    <tr style=\"text-align: right;\">\n",
       "      <th></th>\n",
       "      <th>customer</th>\n",
       "      <th>validOrders</th>\n",
       "      <th>first</th>\n",
       "      <th>last</th>\n",
       "      <th>frequency</th>\n",
       "      <th>recency</th>\n",
       "    </tr>\n",
       "  </thead>\n",
       "  <tbody>\n",
       "  </tbody>\n",
       "</table>\n",
       "</div>"
      ],
      "text/plain": [
       "Empty DataFrame\n",
       "Columns: [customer, validOrders, first, last, frequency, recency]\n",
       "Index: []"
      ]
     },
     "execution_count": 269,
     "metadata": {},
     "output_type": "execute_result"
    }
   ],
   "source": [
    "#Get recency: duration btw first and last purchase\n",
    "merged_df['recency'] = (merged_df['last'] - merged_df['first']).astype('timedelta64[W]') #D for days, W for weeks etc\n",
    "print(merged_df.dtypes)\n",
    "merged_df.head()\n",
    "\n",
    "#Check for negative values\n",
    "merged_df[merged_df['recency'] <0] "
   ]
  },
  {
   "cell_type": "code",
   "execution_count": 270,
   "metadata": {
    "collapsed": false
   },
   "outputs": [
    {
     "data": {
      "text/html": [
       "<div>\n",
       "<table border=\"1\" class=\"dataframe\">\n",
       "  <thead>\n",
       "    <tr style=\"text-align: right;\">\n",
       "      <th></th>\n",
       "      <th>customer</th>\n",
       "      <th>validOrders</th>\n",
       "      <th>first</th>\n",
       "      <th>last</th>\n",
       "      <th>frequency</th>\n",
       "      <th>recency</th>\n",
       "      <th>T</th>\n",
       "    </tr>\n",
       "  </thead>\n",
       "  <tbody>\n",
       "    <tr>\n",
       "      <th>0</th>\n",
       "      <td>CUS-A0013083</td>\n",
       "      <td>3</td>\n",
       "      <td>2015-10-12</td>\n",
       "      <td>2016-09-27</td>\n",
       "      <td>2</td>\n",
       "      <td>50.0</td>\n",
       "      <td>72.0</td>\n",
       "    </tr>\n",
       "    <tr>\n",
       "      <th>1</th>\n",
       "      <td>CUS-A0016193</td>\n",
       "      <td>1</td>\n",
       "      <td>2016-12-12</td>\n",
       "      <td>2016-12-12</td>\n",
       "      <td>0</td>\n",
       "      <td>0.0</td>\n",
       "      <td>11.0</td>\n",
       "    </tr>\n",
       "    <tr>\n",
       "      <th>2</th>\n",
       "      <td>CUS-A0022539</td>\n",
       "      <td>1</td>\n",
       "      <td>2016-01-06</td>\n",
       "      <td>2016-01-06</td>\n",
       "      <td>0</td>\n",
       "      <td>0.0</td>\n",
       "      <td>60.0</td>\n",
       "    </tr>\n",
       "    <tr>\n",
       "      <th>3</th>\n",
       "      <td>CUS-A0028640</td>\n",
       "      <td>1</td>\n",
       "      <td>2016-09-09</td>\n",
       "      <td>2016-09-09</td>\n",
       "      <td>0</td>\n",
       "      <td>0.0</td>\n",
       "      <td>24.0</td>\n",
       "    </tr>\n",
       "    <tr>\n",
       "      <th>4</th>\n",
       "      <td>CUS-A0032874</td>\n",
       "      <td>8</td>\n",
       "      <td>2016-03-31</td>\n",
       "      <td>2016-05-14</td>\n",
       "      <td>7</td>\n",
       "      <td>6.0</td>\n",
       "      <td>48.0</td>\n",
       "    </tr>\n",
       "  </tbody>\n",
       "</table>\n",
       "</div>"
      ],
      "text/plain": [
       "       customer  validOrders      first       last  frequency  recency     T\n",
       "0  CUS-A0013083            3 2015-10-12 2016-09-27          2     50.0  72.0\n",
       "1  CUS-A0016193            1 2016-12-12 2016-12-12          0      0.0  11.0\n",
       "2  CUS-A0022539            1 2016-01-06 2016-01-06          0      0.0  60.0\n",
       "3  CUS-A0028640            1 2016-09-09 2016-09-09          0      0.0  24.0\n",
       "4  CUS-A0032874            8 2016-03-31 2016-05-14          7      6.0  48.0"
      ]
     },
     "execution_count": 270,
     "metadata": {},
     "output_type": "execute_result"
    }
   ],
   "source": [
    "merged_df[\"T\"] = (pd.datetime.now().date() - merged_df['first']).astype('timedelta64[W]')\n",
    "merged_df.head()"
   ]
  },
  {
   "cell_type": "code",
   "execution_count": 271,
   "metadata": {
    "collapsed": false
   },
   "outputs": [
    {
     "name": "stdout",
     "output_type": "stream",
     "text": [
      "(33722, 3)\n"
     ]
    },
    {
     "data": {
      "text/html": [
       "<div>\n",
       "<table border=\"1\" class=\"dataframe\">\n",
       "  <thead>\n",
       "    <tr style=\"text-align: right;\">\n",
       "      <th></th>\n",
       "      <th>frequency</th>\n",
       "      <th>recency</th>\n",
       "      <th>T</th>\n",
       "    </tr>\n",
       "    <tr>\n",
       "      <th>customer</th>\n",
       "      <th></th>\n",
       "      <th></th>\n",
       "      <th></th>\n",
       "    </tr>\n",
       "  </thead>\n",
       "  <tbody>\n",
       "    <tr>\n",
       "      <th>CUS-A0013083</th>\n",
       "      <td>2</td>\n",
       "      <td>50.0</td>\n",
       "      <td>72.0</td>\n",
       "    </tr>\n",
       "    <tr>\n",
       "      <th>CUS-A0016193</th>\n",
       "      <td>0</td>\n",
       "      <td>0.0</td>\n",
       "      <td>11.0</td>\n",
       "    </tr>\n",
       "    <tr>\n",
       "      <th>CUS-A0022539</th>\n",
       "      <td>0</td>\n",
       "      <td>0.0</td>\n",
       "      <td>60.0</td>\n",
       "    </tr>\n",
       "    <tr>\n",
       "      <th>CUS-A0028640</th>\n",
       "      <td>0</td>\n",
       "      <td>0.0</td>\n",
       "      <td>24.0</td>\n",
       "    </tr>\n",
       "    <tr>\n",
       "      <th>CUS-A0032874</th>\n",
       "      <td>7</td>\n",
       "      <td>6.0</td>\n",
       "      <td>48.0</td>\n",
       "    </tr>\n",
       "  </tbody>\n",
       "</table>\n",
       "</div>"
      ],
      "text/plain": [
       "              frequency  recency     T\n",
       "customer                              \n",
       "CUS-A0013083          2     50.0  72.0\n",
       "CUS-A0016193          0      0.0  11.0\n",
       "CUS-A0022539          0      0.0  60.0\n",
       "CUS-A0028640          0      0.0  24.0\n",
       "CUS-A0032874          7      6.0  48.0"
      ]
     },
     "execution_count": 271,
     "metadata": {},
     "output_type": "execute_result"
    }
   ],
   "source": [
    "m = merged_df[['customer','frequency','recency','T']].set_index('customer')\n",
    "print(m.shape)\n",
    "m.head()\n"
   ]
  },
  {
   "cell_type": "markdown",
   "metadata": {},
   "source": [
    "# Model part\n",
    "\n",
    "<p> Fitting the BG/NBD model </p>\n",
    "<p> </p>\n",
    "<p> Some background info: model framework was laid by Pareto/NBD model (1987) which has 2 parts: time to dropout is modeled using Pareto (exponential gamma mixture) dist, while customers being still alive their repeat purchase behaviour is modeled using negative binomial (Poisson gamma) distribution. Problem is with parameter fitting </p> \n"
   ]
  },
  {
   "cell_type": "code",
   "execution_count": 272,
   "metadata": {
    "collapsed": true
   },
   "outputs": [],
   "source": [
    "from lifetimes import BetaGeoFitter"
   ]
  },
  {
   "cell_type": "code",
   "execution_count": 273,
   "metadata": {
    "collapsed": false
   },
   "outputs": [
    {
     "name": "stdout",
     "output_type": "stream",
     "text": [
      "<lifetimes.BetaGeoFitter: fitted with 33722 subjects, a: 0.60, alpha: 2.20, b: 2.70, r: 0.22>\n"
     ]
    }
   ],
   "source": [
    "# similar API to scikit-learn and lifelines.\n",
    "bgf = BetaGeoFitter(penalizer_coef=0.0)\n",
    "bgf.fit(m['frequency'], m['recency'], m['T'])\n",
    "print(bgf)\n"
   ]
  },
  {
   "cell_type": "code",
   "execution_count": 274,
   "metadata": {
    "collapsed": false
   },
   "outputs": [
    {
     "data": {
      "text/plain": [
       "<matplotlib.axes._subplots.AxesSubplot at 0x12db57630>"
      ]
     },
     "execution_count": 274,
     "metadata": {},
     "output_type": "execute_result"
    },
    {
     "data": {
      "image/png": "[encoded data removed]",
      "text/plain": [
       "<matplotlib.figure.Figure at 0x108b1c0f0>"
      ]
     },
     "metadata": {},
     "output_type": "display_data"
    }
   ],
   "source": [
    "from lifetimes.plotting import plot_frequency_recency_matrix\n",
    "plot_frequency_recency_matrix(bgf)"
   ]
  },
  {
   "cell_type": "code",
   "execution_count": 275,
   "metadata": {
    "collapsed": false
   },
   "outputs": [
    {
     "data": {
      "text/plain": [
       "<matplotlib.axes._subplots.AxesSubplot at 0x123255a20>"
      ]
     },
     "execution_count": 275,
     "metadata": {},
     "output_type": "execute_result"
    },
    {
     "data": {
      "image/png": "[encoded data removed]",
      "text/plain": [
       "<matplotlib.figure.Figure at 0x1055292e8>"
      ]
     },
     "metadata": {},
     "output_type": "display_data"
    }
   ],
   "source": [
    "from lifetimes.plotting import plot_probability_alive_matrix\n",
    "\n",
    "plot_probability_alive_matrix(bgf)"
   ]
  },
  {
   "cell_type": "code",
   "execution_count": 276,
   "metadata": {
    "collapsed": false
   },
   "outputs": [
    {
     "data": {
      "text/html": [
       "<div>\n",
       "<table border=\"1\" class=\"dataframe\">\n",
       "  <thead>\n",
       "    <tr style=\"text-align: right;\">\n",
       "      <th></th>\n",
       "      <th>frequency</th>\n",
       "      <th>recency</th>\n",
       "      <th>T</th>\n",
       "      <th>predicted_purchases</th>\n",
       "    </tr>\n",
       "    <tr>\n",
       "      <th>customer</th>\n",
       "      <th></th>\n",
       "      <th></th>\n",
       "      <th></th>\n",
       "      <th></th>\n",
       "    </tr>\n",
       "  </thead>\n",
       "  <tbody>\n",
       "    <tr>\n",
       "      <th>CUS-D3250964</th>\n",
       "      <td>50</td>\n",
       "      <td>52.0</td>\n",
       "      <td>52.0</td>\n",
       "      <td>3.589551</td>\n",
       "    </tr>\n",
       "    <tr>\n",
       "      <th>CUS-W-CN-04423160</th>\n",
       "      <td>51</td>\n",
       "      <td>53.0</td>\n",
       "      <td>53.0</td>\n",
       "      <td>3.596733</td>\n",
       "    </tr>\n",
       "    <tr>\n",
       "      <th>CUS-W-XS-92125017</th>\n",
       "      <td>53</td>\n",
       "      <td>55.0</td>\n",
       "      <td>55.0</td>\n",
       "      <td>3.610367</td>\n",
       "    </tr>\n",
       "    <tr>\n",
       "      <th>CUS-W-SF-00895675</th>\n",
       "      <td>42</td>\n",
       "      <td>42.0</td>\n",
       "      <td>42.0</td>\n",
       "      <td>3.676830</td>\n",
       "    </tr>\n",
       "    <tr>\n",
       "      <th>CUS-W-VN-03185864</th>\n",
       "      <td>55</td>\n",
       "      <td>56.0</td>\n",
       "      <td>56.0</td>\n",
       "      <td>3.684190</td>\n",
       "    </tr>\n",
       "    <tr>\n",
       "      <th>CUS-M6004676</th>\n",
       "      <td>71</td>\n",
       "      <td>72.0</td>\n",
       "      <td>72.0</td>\n",
       "      <td>3.750390</td>\n",
       "    </tr>\n",
       "    <tr>\n",
       "      <th>CUS-W-KR-76690240</th>\n",
       "      <td>38</td>\n",
       "      <td>32.0</td>\n",
       "      <td>33.0</td>\n",
       "      <td>4.029404</td>\n",
       "    </tr>\n",
       "    <tr>\n",
       "      <th>CUS-W-DS-33226215</th>\n",
       "      <td>67</td>\n",
       "      <td>58.0</td>\n",
       "      <td>59.0</td>\n",
       "      <td>4.202991</td>\n",
       "    </tr>\n",
       "    <tr>\n",
       "      <th>CUS-H2911406</th>\n",
       "      <td>86</td>\n",
       "      <td>76.0</td>\n",
       "      <td>76.0</td>\n",
       "      <td>4.317024</td>\n",
       "    </tr>\n",
       "    <tr>\n",
       "      <th>CUS-P1335085</th>\n",
       "      <td>56</td>\n",
       "      <td>45.0</td>\n",
       "      <td>45.0</td>\n",
       "      <td>4.605682</td>\n",
       "    </tr>\n",
       "    <tr>\n",
       "      <th>CUS-Y9163636</th>\n",
       "      <td>46</td>\n",
       "      <td>34.0</td>\n",
       "      <td>35.0</td>\n",
       "      <td>4.622101</td>\n",
       "    </tr>\n",
       "    <tr>\n",
       "      <th>CUS-W-TH-24036964</th>\n",
       "      <td>51</td>\n",
       "      <td>36.0</td>\n",
       "      <td>37.0</td>\n",
       "      <td>4.874476</td>\n",
       "    </tr>\n",
       "    <tr>\n",
       "      <th>CUS-W-DX-87320253</th>\n",
       "      <td>102</td>\n",
       "      <td>67.0</td>\n",
       "      <td>68.0</td>\n",
       "      <td>5.591283</td>\n",
       "    </tr>\n",
       "    <tr>\n",
       "      <th>CUS-W-ZV-35265289</th>\n",
       "      <td>17</td>\n",
       "      <td>7.0</td>\n",
       "      <td>7.0</td>\n",
       "      <td>6.552997</td>\n",
       "    </tr>\n",
       "    <tr>\n",
       "      <th>CUS-W-FA-71022404</th>\n",
       "      <td>205</td>\n",
       "      <td>69.0</td>\n",
       "      <td>70.0</td>\n",
       "      <td>10.652125</td>\n",
       "    </tr>\n",
       "  </tbody>\n",
       "</table>\n",
       "</div>"
      ],
      "text/plain": [
       "                   frequency  recency     T  predicted_purchases\n",
       "customer                                                        \n",
       "CUS-D3250964              50     52.0  52.0             3.589551\n",
       "CUS-W-CN-04423160         51     53.0  53.0             3.596733\n",
       "CUS-W-XS-92125017         53     55.0  55.0             3.610367\n",
       "CUS-W-SF-00895675         42     42.0  42.0             3.676830\n",
       "CUS-W-VN-03185864         55     56.0  56.0             3.684190\n",
       "CUS-M6004676              71     72.0  72.0             3.750390\n",
       "CUS-W-KR-76690240         38     32.0  33.0             4.029404\n",
       "CUS-W-DS-33226215         67     58.0  59.0             4.202991\n",
       "CUS-H2911406              86     76.0  76.0             4.317024\n",
       "CUS-P1335085              56     45.0  45.0             4.605682\n",
       "CUS-Y9163636              46     34.0  35.0             4.622101\n",
       "CUS-W-TH-24036964         51     36.0  37.0             4.874476\n",
       "CUS-W-DX-87320253        102     67.0  68.0             5.591283\n",
       "CUS-W-ZV-35265289         17      7.0   7.0             6.552997\n",
       "CUS-W-FA-71022404        205     69.0  70.0            10.652125"
      ]
     },
     "execution_count": 276,
     "metadata": {},
     "output_type": "execute_result"
    }
   ],
   "source": [
    "t = 4\n",
    "m['predicted_purchases'] = bgf.conditional_expected_number_of_purchases_up_to_time(t, m['frequency'], m['recency'], m['T'])\n",
    "m.sort_values(by='predicted_purchases').tail(15)"
   ]
  },
  {
   "cell_type": "code",
   "execution_count": 277,
   "metadata": {
    "collapsed": false
   },
   "outputs": [
    {
     "data": {
      "text/plain": [
       "4974.4719218408291"
      ]
     },
     "execution_count": 277,
     "metadata": {},
     "output_type": "execute_result"
    }
   ],
   "source": [
    "m['predicted_purchases'].sum()"
   ]
  },
  {
   "cell_type": "code",
   "execution_count": 278,
   "metadata": {
    "collapsed": false
   },
   "outputs": [
    {
     "data": {
      "text/html": [
       "<div>\n",
       "<table border=\"1\" class=\"dataframe\">\n",
       "  <thead>\n",
       "    <tr style=\"text-align: right;\">\n",
       "      <th></th>\n",
       "      <th>frequency</th>\n",
       "      <th>recency</th>\n",
       "      <th>T</th>\n",
       "      <th>predicted_purchases</th>\n",
       "    </tr>\n",
       "    <tr>\n",
       "      <th>customer</th>\n",
       "      <th></th>\n",
       "      <th></th>\n",
       "      <th></th>\n",
       "      <th></th>\n",
       "    </tr>\n",
       "  </thead>\n",
       "  <tbody>\n",
       "    <tr>\n",
       "      <th>CUS-A0013083</th>\n",
       "      <td>2</td>\n",
       "      <td>50.0</td>\n",
       "      <td>72.0</td>\n",
       "      <td>0.087832</td>\n",
       "    </tr>\n",
       "    <tr>\n",
       "      <th>CUS-A0016193</th>\n",
       "      <td>0</td>\n",
       "      <td>0.0</td>\n",
       "      <td>11.0</td>\n",
       "      <td>0.065445</td>\n",
       "    </tr>\n",
       "    <tr>\n",
       "      <th>CUS-A0022539</th>\n",
       "      <td>0</td>\n",
       "      <td>0.0</td>\n",
       "      <td>60.0</td>\n",
       "      <td>0.014235</td>\n",
       "    </tr>\n",
       "    <tr>\n",
       "      <th>CUS-A0028640</th>\n",
       "      <td>0</td>\n",
       "      <td>0.0</td>\n",
       "      <td>24.0</td>\n",
       "      <td>0.033479</td>\n",
       "    </tr>\n",
       "    <tr>\n",
       "      <th>CUS-A0032874</th>\n",
       "      <td>7</td>\n",
       "      <td>6.0</td>\n",
       "      <td>48.0</td>\n",
       "      <td>0.000017</td>\n",
       "    </tr>\n",
       "  </tbody>\n",
       "</table>\n",
       "</div>"
      ],
      "text/plain": [
       "              frequency  recency     T  predicted_purchases\n",
       "customer                                                   \n",
       "CUS-A0013083          2     50.0  72.0             0.087832\n",
       "CUS-A0016193          0      0.0  11.0             0.065445\n",
       "CUS-A0022539          0      0.0  60.0             0.014235\n",
       "CUS-A0028640          0      0.0  24.0             0.033479\n",
       "CUS-A0032874          7      6.0  48.0             0.000017"
      ]
     },
     "execution_count": 278,
     "metadata": {},
     "output_type": "execute_result"
    }
   ],
   "source": [
    "m.reset_index()\n",
    "m.head()"
   ]
  },
  {
   "cell_type": "markdown",
   "metadata": {},
   "source": [
    "# Backtest"
   ]
  },
  {
   "cell_type": "code",
   "execution_count": 279,
   "metadata": {
    "collapsed": false
   },
   "outputs": [
    {
     "data": {
      "text/plain": [
       "Timestamp('2016-12-31 00:00:00')"
      ]
     },
     "execution_count": 279,
     "metadata": {},
     "output_type": "execute_result"
    }
   ],
   "source": [
    "#Make a subset \n",
    "data_test = data_s[data_s['date'] < datetime(2017,1,1)]\n",
    "\n",
    "#Check the latest date\n",
    "data_test['date'].max()"
   ]
  },
  {
   "cell_type": "code",
   "execution_count": 287,
   "metadata": {
    "collapsed": true
   },
   "outputs": [],
   "source": [
    "g_test = data_test[data_test['isvalid']>0].groupby('customer').apply(lambda x: x['isvalid'].sum()).reset_index()\n",
    "g_test.columns = ['customer','validOrders']\n",
    "p_test = data_test[data_test['isvalid']>0].groupby('customer')['date'].agg({\"first\": lambda x: x.min(),\"last\": lambda x: x.max()}).reset_index()"
   ]
  },
  {
   "cell_type": "code",
   "execution_count": 288,
   "metadata": {
    "collapsed": false
   },
   "outputs": [
    {
     "name": "stdout",
     "output_type": "stream",
     "text": [
      "(30725, 2)\n",
      "(30725, 3)\n",
      "(30725, 4)\n"
     ]
    },
    {
     "data": {
      "text/html": [
       "<div>\n",
       "<table border=\"1\" class=\"dataframe\">\n",
       "  <thead>\n",
       "    <tr style=\"text-align: right;\">\n",
       "      <th></th>\n",
       "      <th>customer</th>\n",
       "      <th>validOrders</th>\n",
       "      <th>first</th>\n",
       "      <th>last</th>\n",
       "    </tr>\n",
       "  </thead>\n",
       "  <tbody>\n",
       "    <tr>\n",
       "      <th>0</th>\n",
       "      <td>CUS-A0013083</td>\n",
       "      <td>3</td>\n",
       "      <td>2015-10-12</td>\n",
       "      <td>2016-09-27</td>\n",
       "    </tr>\n",
       "    <tr>\n",
       "      <th>1</th>\n",
       "      <td>CUS-A0016193</td>\n",
       "      <td>1</td>\n",
       "      <td>2016-12-12</td>\n",
       "      <td>2016-12-12</td>\n",
       "    </tr>\n",
       "    <tr>\n",
       "      <th>2</th>\n",
       "      <td>CUS-A0022539</td>\n",
       "      <td>1</td>\n",
       "      <td>2016-01-06</td>\n",
       "      <td>2016-01-06</td>\n",
       "    </tr>\n",
       "    <tr>\n",
       "      <th>3</th>\n",
       "      <td>CUS-A0028640</td>\n",
       "      <td>1</td>\n",
       "      <td>2016-09-09</td>\n",
       "      <td>2016-09-09</td>\n",
       "    </tr>\n",
       "    <tr>\n",
       "      <th>4</th>\n",
       "      <td>CUS-A0032874</td>\n",
       "      <td>8</td>\n",
       "      <td>2016-03-31</td>\n",
       "      <td>2016-05-14</td>\n",
       "    </tr>\n",
       "  </tbody>\n",
       "</table>\n",
       "</div>"
      ],
      "text/plain": [
       "       customer  validOrders      first       last\n",
       "0  CUS-A0013083            3 2015-10-12 2016-09-27\n",
       "1  CUS-A0016193            1 2016-12-12 2016-12-12\n",
       "2  CUS-A0022539            1 2016-01-06 2016-01-06\n",
       "3  CUS-A0028640            1 2016-09-09 2016-09-09\n",
       "4  CUS-A0032874            8 2016-03-31 2016-05-14"
      ]
     },
     "execution_count": 288,
     "metadata": {},
     "output_type": "execute_result"
    }
   ],
   "source": [
    "print(g_test.shape)\n",
    "print(p_test.shape)\n",
    "merged_test = pd.merge(left=g_test,right=p_test,how='inner',left_on='customer',right_on='customer',copy=True)\n",
    "print(merged_test.shape)\n",
    "merged_test.head()"
   ]
  },
  {
   "cell_type": "code",
   "execution_count": 297,
   "metadata": {
    "collapsed": false
   },
   "outputs": [
    {
     "data": {
      "text/plain": [
       "(30725, 7)"
      ]
     },
     "execution_count": 297,
     "metadata": {},
     "output_type": "execute_result"
    }
   ],
   "source": [
    "merged_test[\"T\"] = (pd.datetime(2017,1,1) - merged_test['first']).astype('timedelta64[W]')\n",
    "merged_test['recency'] = (merged_test['last'] - merged_test['first']).astype('timedelta64[W]')\n",
    "merged_test['frequency'] = merged_test['validOrders'] - 1\n",
    "merged_test.shape"
   ]
  },
  {
   "cell_type": "code",
   "execution_count": 298,
   "metadata": {
    "collapsed": false
   },
   "outputs": [
    {
     "data": {
      "text/plain": [
       "(30725, 3)"
      ]
     },
     "execution_count": 298,
     "metadata": {},
     "output_type": "execute_result"
    }
   ],
   "source": [
    "m_test = merged_test[['customer','frequency','recency','T']].set_index('customer')\n",
    "m_test.shape"
   ]
  },
  {
   "cell_type": "code",
   "execution_count": 299,
   "metadata": {
    "collapsed": false
   },
   "outputs": [
    {
     "name": "stdout",
     "output_type": "stream",
     "text": [
      "<lifetimes.BetaGeoFitter: fitted with 30725 subjects, a: 0.62, alpha: 2.28, b: 2.85, r: 0.23>\n"
     ]
    }
   ],
   "source": [
    "bgf_test = BetaGeoFitter(penalizer_coef=0.0)\n",
    "bgf_test.fit(m_test['frequency'], m_test['recency'], m_test['T'])\n",
    "print(bgf_test)"
   ]
  },
  {
   "cell_type": "code",
   "execution_count": 300,
   "metadata": {
    "collapsed": false
   },
   "outputs": [
    {
     "data": {
      "text/html": [
       "<div>\n",
       "<table border=\"1\" class=\"dataframe\">\n",
       "  <thead>\n",
       "    <tr style=\"text-align: right;\">\n",
       "      <th></th>\n",
       "      <th>frequency</th>\n",
       "      <th>recency</th>\n",
       "      <th>T</th>\n",
       "      <th>predicted_purchases</th>\n",
       "    </tr>\n",
       "    <tr>\n",
       "      <th>customer</th>\n",
       "      <th></th>\n",
       "      <th></th>\n",
       "      <th></th>\n",
       "      <th></th>\n",
       "    </tr>\n",
       "  </thead>\n",
       "  <tbody>\n",
       "    <tr>\n",
       "      <th>CUS-W-VN-03185864</th>\n",
       "      <td>46</td>\n",
       "      <td>47.0</td>\n",
       "      <td>48.0</td>\n",
       "      <td>3.482096</td>\n",
       "    </tr>\n",
       "    <tr>\n",
       "      <th>CUS-M6004676</th>\n",
       "      <td>62</td>\n",
       "      <td>62.0</td>\n",
       "      <td>63.0</td>\n",
       "      <td>3.653980</td>\n",
       "    </tr>\n",
       "    <tr>\n",
       "      <th>CUS-V5982835</th>\n",
       "      <td>49</td>\n",
       "      <td>46.0</td>\n",
       "      <td>47.0</td>\n",
       "      <td>3.779015</td>\n",
       "    </tr>\n",
       "    <tr>\n",
       "      <th>CUS-H2911406</th>\n",
       "      <td>74</td>\n",
       "      <td>66.0</td>\n",
       "      <td>68.0</td>\n",
       "      <td>3.886419</td>\n",
       "    </tr>\n",
       "    <tr>\n",
       "      <th>CUS-P1335085</th>\n",
       "      <td>40</td>\n",
       "      <td>36.0</td>\n",
       "      <td>36.0</td>\n",
       "      <td>4.023221</td>\n",
       "    </tr>\n",
       "    <tr>\n",
       "      <th>CUS-W-KR-76690240</th>\n",
       "      <td>29</td>\n",
       "      <td>24.0</td>\n",
       "      <td>24.0</td>\n",
       "      <td>4.185678</td>\n",
       "    </tr>\n",
       "    <tr>\n",
       "      <th>CUS-W-DS-33226215</th>\n",
       "      <td>57</td>\n",
       "      <td>50.0</td>\n",
       "      <td>50.0</td>\n",
       "      <td>4.239196</td>\n",
       "    </tr>\n",
       "    <tr>\n",
       "      <th>CUS-C3489321</th>\n",
       "      <td>37</td>\n",
       "      <td>28.0</td>\n",
       "      <td>29.0</td>\n",
       "      <td>4.363398</td>\n",
       "    </tr>\n",
       "    <tr>\n",
       "      <th>CUS-F4899355</th>\n",
       "      <td>16</td>\n",
       "      <td>11.0</td>\n",
       "      <td>11.0</td>\n",
       "      <td>4.386858</td>\n",
       "    </tr>\n",
       "    <tr>\n",
       "      <th>CUS-W-TH-24036964</th>\n",
       "      <td>40</td>\n",
       "      <td>28.0</td>\n",
       "      <td>28.0</td>\n",
       "      <td>5.048698</td>\n",
       "    </tr>\n",
       "    <tr>\n",
       "      <th>CUS-W-YX-36703435</th>\n",
       "      <td>47</td>\n",
       "      <td>31.0</td>\n",
       "      <td>32.0</td>\n",
       "      <td>5.074367</td>\n",
       "    </tr>\n",
       "    <tr>\n",
       "      <th>CUS-Y9163636</th>\n",
       "      <td>38</td>\n",
       "      <td>26.0</td>\n",
       "      <td>26.0</td>\n",
       "      <td>5.121100</td>\n",
       "    </tr>\n",
       "    <tr>\n",
       "      <th>CUS-W-FA-71022404</th>\n",
       "      <td>183</td>\n",
       "      <td>59.0</td>\n",
       "      <td>61.0</td>\n",
       "      <td>5.174067</td>\n",
       "    </tr>\n",
       "    <tr>\n",
       "      <th>CUS-W-DX-87320253</th>\n",
       "      <td>92</td>\n",
       "      <td>57.0</td>\n",
       "      <td>59.0</td>\n",
       "      <td>5.181475</td>\n",
       "    </tr>\n",
       "    <tr>\n",
       "      <th>CUS-P0788059</th>\n",
       "      <td>32</td>\n",
       "      <td>14.0</td>\n",
       "      <td>15.0</td>\n",
       "      <td>6.240237</td>\n",
       "    </tr>\n",
       "  </tbody>\n",
       "</table>\n",
       "</div>"
      ],
      "text/plain": [
       "                   frequency  recency     T  predicted_purchases\n",
       "customer                                                        \n",
       "CUS-W-VN-03185864         46     47.0  48.0             3.482096\n",
       "CUS-M6004676              62     62.0  63.0             3.653980\n",
       "CUS-V5982835              49     46.0  47.0             3.779015\n",
       "CUS-H2911406              74     66.0  68.0             3.886419\n",
       "CUS-P1335085              40     36.0  36.0             4.023221\n",
       "CUS-W-KR-76690240         29     24.0  24.0             4.185678\n",
       "CUS-W-DS-33226215         57     50.0  50.0             4.239196\n",
       "CUS-C3489321              37     28.0  29.0             4.363398\n",
       "CUS-F4899355              16     11.0  11.0             4.386858\n",
       "CUS-W-TH-24036964         40     28.0  28.0             5.048698\n",
       "CUS-W-YX-36703435         47     31.0  32.0             5.074367\n",
       "CUS-Y9163636              38     26.0  26.0             5.121100\n",
       "CUS-W-FA-71022404        183     59.0  61.0             5.174067\n",
       "CUS-W-DX-87320253         92     57.0  59.0             5.181475\n",
       "CUS-P0788059              32     14.0  15.0             6.240237"
      ]
     },
     "execution_count": 300,
     "metadata": {},
     "output_type": "execute_result"
    }
   ],
   "source": [
    "t = 4\n",
    "m_test['predicted_purchases'] = bgf_test.conditional_expected_number_of_purchases_up_to_time(t, m_test['frequency'], m_test['recency'], m_test['T'])\n",
    "m_test.sort_values(by='predicted_purchases').tail(15)"
   ]
  },
  {
   "cell_type": "code",
   "execution_count": 309,
   "metadata": {
    "collapsed": false
   },
   "outputs": [
    {
     "name": "stdout",
     "output_type": "stream",
     "text": [
      "0.0968169041793\n"
     ]
    },
    {
     "data": {
      "text/plain": [
       "4423.7100846204494"
      ]
     },
     "execution_count": 309,
     "metadata": {},
     "output_type": "execute_result"
    }
   ],
   "source": [
    "print((3270+1253+329 - m_test['predicted_purchases'].sum())/m_test['predicted_purchases'].sum())\n",
    "m_test['predicted_purchases'].sum()"
   ]
  }
 ],
 "metadata": {
  "kernelspec": {
   "display_name": "Python 3",
   "language": "python",
   "name": "python3"
  },
  "language_info": {
   "codemirror_mode": {
    "name": "ipython",
    "version": 3
   },
   "file_extension": ".py",
   "mimetype": "text/x-python",
   "name": "python",
   "nbconvert_exporter": "python",
   "pygments_lexer": "ipython3",
   "version": "3.5.1"
  }
 },
 "nbformat": 4,
 "nbformat_minor": 1
}
